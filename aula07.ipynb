{
 "cells": [
  {
   "cell_type": "code",
   "execution_count": null,
   "metadata": {},
   "outputs": [],
   "source": [
    "nome = [\"Gomes\", \"a\"]\n",
    "\n",
    "\n",
    "for _, __ in enumerate(nome):\n",
    "    print(f\"{_+1}° {__}\")\n",
    "    "
   ]
  },
  {
   "cell_type": "code",
   "execution_count": null,
   "metadata": {},
   "outputs": [],
   "source": [
    "for i in range(1, 11, +1):\n",
    "    print(i)"
   ]
  },
  {
   "cell_type": "code",
   "execution_count": null,
   "metadata": {},
   "outputs": [],
   "source": [
    "inicio = (input(\"Insira um número\"))\n",
    "fim = (input(\"Insira um número\"))\n",
    "\n",
    "\n",
    "for i in range(inicio, fim, +1):\n",
    "    print(i)"
   ]
  },
  {
   "cell_type": "code",
   "execution_count": null,
   "metadata": {},
   "outputs": [],
   "source": [
    "for i in range(0, 21):\n",
    "    if i % 2 != 0:\n",
    "        print(i)"
   ]
  },
  {
   "cell_type": "code",
   "execution_count": null,
   "metadata": {},
   "outputs": [],
   "source": [
    "x = int(input(\"Digite sua própria tabuada\"))\n",
    "\n",
    "for num in range(1, 11):\n",
    "    print(f\"{x} X {num} = {x * num}\")"
   ]
  },
  {
   "cell_type": "code",
   "execution_count": null,
   "metadata": {},
   "outputs": [],
   "source": [
    "from time import sleep \n",
    "import os\n",
    "\n",
    "x = int(input(\"Digite o número de segundos da contagem regressiva: \"))\n",
    "\n",
    "for i in range(x, -1, -1):\n",
    "    print(i)\n",
    "    sleep(1)\n",
    "    os.system(\"cls\")\n",
    "\n",
    "print(\"fim da contagem\")"
   ]
  },
  {
   "cell_type": "code",
   "execution_count": null,
   "metadata": {},
   "outputs": [],
   "source": [
    "lista = [\"a\", \"b\", \"c\", \"d\", \"e\"]\n",
    "\n",
    "for i in lista:\n",
    "    if i == \"a\":\n",
    "     print(i)"
   ]
  },
  {
   "cell_type": "code",
   "execution_count": null,
   "metadata": {},
   "outputs": [],
   "source": [
    "contador = 0\n",
    "soma = 0\n",
    "\n",
    "for i in range(1, 101):\n",
    "    if i % 2 != 0:\n",
    "        print(i)\n",
    "        contador += 1\n",
    "        soma += i\n",
    "\n",
    "print(f'A soma dos números ímpares é: {soma}')\n",
    "print(f\"A quantidade total de números impares é: {contador}\")"
   ]
  }
 ],
 "metadata": {
  "kernelspec": {
   "display_name": "venv",
   "language": "python",
   "name": "python3"
  },
  "language_info": {
   "codemirror_mode": {
    "name": "ipython",
    "version": 3
   },
   "file_extension": ".py",
   "mimetype": "text/x-python",
   "name": "python",
   "nbconvert_exporter": "python",
   "pygments_lexer": "ipython3",
   "version": "3.11.9"
  }
 },
 "nbformat": 4,
 "nbformat_minor": 2
}
