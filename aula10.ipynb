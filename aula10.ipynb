{
 "cells": [
  {
   "cell_type": "code",
   "execution_count": null,
   "metadata": {},
   "outputs": [],
   "source": [
    "frase = str(input(\"Digite uma palavra ou frase: \")).strip().upper()\n",
    "\n",
    "palavras = frase.split()\n",
    "caractere = \"\".join(palavras)\n",
    "\n",
    "frase_invertida = \"\"\n",
    "\n",
    "for i in range(len(caractere) -1, -1, -1):\n",
    "    frase_invertida += caractere[i]\n",
    "\n",
    "print(caractere, frase_invertida)\n",
    "\n",
    "if frase_invertida == caractere:\n",
    "    print(\"Essa frase é um palindromo\")\n",
    "else:\n",
    "    print(\"Não é um palindromo\")"
   ]
  },
  {
   "cell_type": "code",
   "execution_count": null,
   "metadata": {},
   "outputs": [],
   "source": [
    "\n",
    "cpf = input(\"Digite seu CPF: \").replace(\"-\", \".\")\n",
    "print(f\"cpf: {cpf[:3]}.{cpf[3:6]}.{cpf[6:9]}-{cpf[9:]}\")\n",
    "print(cpf)\n"
   ]
  },
  {
   "cell_type": "code",
   "execution_count": null,
   "metadata": {},
   "outputs": [],
   "source": [
    "#Dicionário\n",
    "\n",
    "dicionário = dict(\n",
    "    Pão = \"R$ 1,99\",\n",
    "    Açúcar = \"R$ 3,99\",\n",
    "    Café = \"R$ 5,99\",\n",
    "    Macarrão = \"R$ 7,99\",\n",
    "    Carne = \"R$ 7,99\"\n",
    ")\n",
    "\n",
    "print(dicionário)"
   ]
  },
  {
   "cell_type": "code",
   "execution_count": null,
   "metadata": {},
   "outputs": [],
   "source": [
    "# Criando o Dicionário de produtos\n",
    "\n",
    "produtos = {\n",
    "    101 : {\"nome\" : \"Chocolate\", \"preco\" : 5.00, \"estoque\" : 10},\n",
    "    102 : {\"nome\" : \"Pão\", \"preco\" : 16.99, \"estoque\" : 100},\n",
    "    103 : {\"nome\" : \"Biscoito\", \"preco\" : 2.99, \"estoque\" : 20}\n",
    "}\n",
    "\n",
    "for code, info in produtos.items():\n",
    "    print(f\"Código: {code}\")\n",
    "    print(f\"Nome: {info['nome']}\")\n",
    "    print(f\"Preço: {info['preco']}\")\n",
    "    print(f\"Estoque: {info['estoque']}\")\n",
    "    print()\n",
    "\n",
    "print(produtos.items())\n",
    "print(produtos.values())\n",
    "\n"
   ]
  }
 ],
 "metadata": {
  "kernelspec": {
   "display_name": "venv",
   "language": "python",
   "name": "python3"
  },
  "language_info": {
   "codemirror_mode": {
    "name": "ipython",
    "version": 3
   },
   "file_extension": ".py",
   "mimetype": "text/x-python",
   "name": "python",
   "nbconvert_exporter": "python",
   "pygments_lexer": "ipython3",
   "version": "3.11.9"
  }
 },
 "nbformat": 4,
 "nbformat_minor": 2
}
