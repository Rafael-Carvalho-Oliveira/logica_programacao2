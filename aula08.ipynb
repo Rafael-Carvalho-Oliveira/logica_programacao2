{
 "cells": [
  {
   "cell_type": "code",
   "execution_count": null,
   "metadata": {},
   "outputs": [],
   "source": [
    "from time import sleep\n",
    "\n",
    "while i:\n",
    "    print(\"hello world\")\n",
    "    sleep(0.5)\n",
    "    print(\"ok\")\n",
    "    sleep(0.1)\n",
    "    \n",
    "\n",
    "    "
   ]
  },
  {
   "cell_type": "code",
   "execution_count": null,
   "metadata": {},
   "outputs": [],
   "source": [
    "altura = int(input(\"digite a altura da árvore: \"))\n",
    "\n",
    "for i in range(1, altura):\n",
    "    for _ in range(altura - i):\n",
    "        print(\" \", end=\"\")\n",
    "\n",
    "    for _ in range(i):\n",
    "        print(\"*\", end=\"\")\n",
    "    \n",
    "    print()\n",
    "    \n",
    "        \n"
   ]
  },
  {
   "cell_type": "code",
   "execution_count": null,
   "metadata": {},
   "outputs": [],
   "source": [
    "lista = [\"lucas\", \"natan\", \"juan\", \"dias\"]\n",
    "nome = input(\"coloca um nome: \")\n",
    "lista.append(nome)\n",
    "\n",
    "while True:\n",
    "    if \"oi\" in lista:\n",
    "        print(\"encontrei o oi\")\n",
    "        break "
   ]
  },
  {
   "cell_type": "code",
   "execution_count": null,
   "metadata": {},
   "outputs": [],
   "source": [
    "lista = []\n",
    "\n",
    "while True:\n",
    "    nome = input(\"coloca um nome: \")\n",
    "    if nome != \"\":\n",
    "     lista.append(nome)\n",
    "    else:\n",
    "       break\n",
    "\n",
    "print(lista)"
   ]
  },
  {
   "cell_type": "code",
   "execution_count": null,
   "metadata": {},
   "outputs": [],
   "source": [
    "while True:\n",
    "    altura = int(input(\"coloca ai: \"))\n",
    "\n",
    "    if altura > 1:\n",
    "        break\n",
    "\n",
    "for i in range(altura):\n",
    "    print(\" \" * (altura - (i + 1)) + \"⁂\" * (i + 1))"
   ]
  }
 ],
 "metadata": {
  "kernelspec": {
   "display_name": "venv",
   "language": "python",
   "name": "python3"
  },
  "language_info": {
   "codemirror_mode": {
    "name": "ipython",
    "version": 3
   },
   "file_extension": ".py",
   "mimetype": "text/x-python",
   "name": "python",
   "nbconvert_exporter": "python",
   "pygments_lexer": "ipython3",
   "version": "3.11.9"
  }
 },
 "nbformat": 4,
 "nbformat_minor": 2
}
